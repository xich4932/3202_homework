{
 "cells": [
  {
   "cell_type": "code",
   "execution_count": 1,
   "metadata": {},
   "outputs": [],
   "source": [
    "state = {(1,2),(3,4),(5,6)}"
   ]
  },
  {
   "cell_type": "code",
   "execution_count": 2,
   "metadata": {},
   "outputs": [
    {
     "name": "stdout",
     "output_type": "stream",
     "text": [
      "1 2\n",
      "3 4\n",
      "5 6\n"
     ]
    }
   ],
   "source": [
    "for m in state:\n",
    "    print(m[0],m[1])"
   ]
  },
  {
   "cell_type": "code",
   "execution_count": 3,
   "metadata": {},
   "outputs": [],
   "source": [
    "    def result(self, move, state):\n",
    "        '''\n",
    "        What is the hypothetical result of move `move` in state `state` ?\n",
    "        move  = (row, col) tuple where player will put their mark (X or O)\n",
    "        state = a `State` object, to represent whose turn it is and form\n",
    "                the basis for generating a **hypothetical** updated state\n",
    "                that will result from making the given `move`\n",
    "        '''\n",
    "        sum_hori = 0\n",
    "        sum_x_o = 0\n",
    "        #check horizonal\n",
    "        for c in range(len(state)):\n",
    "            for r in range(len*(state[0])):\n",
    "                if(state[c][r] == 'X'):\n",
    "                    sum_x_o += 1 ## if meet X, increase by 1, if all three tiles are X, the result is 3, one winner\n",
    "                elif(state[c][r] == 'O'):\n",
    "                    sum_x_o -= 1\n",
    "            if(sum_x_o == 3):\n",
    "                return 1\n",
    "            elif(sum_x_o == -3):\n",
    "                return -1\n",
    "        #check vertical\n",
    "        sum_x_o = 0\n",
    "        for r in range(len(state[0])):\n",
    "            for c in range(len*(state)):\n",
    "                if(state[c][r] == 'X'):\n",
    "                    sum_x_o += 1\n",
    "                elif(state[c][r] == 'O'):\n",
    "                    sum_x_o -= 1\n",
    "            if(sum_x_o == 3):\n",
    "                return 1\n",
    "            elif(sum_x_o == -3):\n",
    "                return -1\n",
    "        c = 0\n",
    "        r = 0\n",
    "        sum_x_o = 0\n",
    "        #solving for diagonal line\n",
    "        while(c < len(state)):\n",
    "            if(state[c][r] == 'X'):\n",
    "                    sum_x_o += 1\n",
    "            elif(state[c][r] == 'O'):\n",
    "                sum_x_o -= 1\n",
    "            c += 1\n",
    "            r += 1\n",
    "        c = len(state)-1\n",
    "        r = 0\n",
    "        while(r < len(state)):\n",
    "            if(state[c][r] == 'X'):\n",
    "                    sum_x_o += 1\n",
    "            elif(state[c][r] == 'O'):\n",
    "                sum_x_o -= 1\n",
    "            c -= 1\n",
    "            r += 1\n",
    "        return 0"
   ]
  },
  {
   "cell_type": "code",
   "execution_count": null,
   "metadata": {},
   "outputs": [],
   "source": [
    "test1 = {{'X','X','O'}, {'X','X','O'}, {'X','X','O'}, }\n",
    "print(result)"
   ]
  },
  {
   "cell_type": "markdown",
   "metadata": {},
   "source": []
  },
  {
   "cell_type": "code",
   "execution_count": 14,
   "metadata": {},
   "outputs": [],
   "source": [
    "import numpy as np\n",
    "\n",
    "\n",
    "    \n",
    "    \n"
   ]
  },
  {
   "cell_type": "code",
   "execution_count": 16,
   "metadata": {},
   "outputs": [
    {
     "name": "stdout",
     "output_type": "stream",
     "text": [
      "[10, 10, 10, 10]\n"
     ]
    }
   ],
   "source": [
    "lists = [1,2,3,4]\n",
    "for i in range(len(lists)):\n",
    "    lists[i] = 10\n",
    "print(lists)"
   ]
  },
  {
   "cell_type": "code",
   "execution_count": null,
   "metadata": {},
   "outputs": [],
   "source": []
  }
 ],
 "metadata": {
  "interpreter": {
   "hash": "e6a71861ff064805611bae4ea09345fbd75cc54b3f37c8079d368f52f3960758"
  },
  "kernelspec": {
   "display_name": "Python 3.8.8 64-bit ('base': conda)",
   "name": "python3"
  },
  "language_info": {
   "codemirror_mode": {
    "name": "ipython",
    "version": 3
   },
   "file_extension": ".py",
   "mimetype": "text/x-python",
   "name": "python",
   "nbconvert_exporter": "python",
   "pygments_lexer": "ipython3",
   "version": "3.8.8"
  },
  "orig_nbformat": 4
 },
 "nbformat": 4,
 "nbformat_minor": 2
}
